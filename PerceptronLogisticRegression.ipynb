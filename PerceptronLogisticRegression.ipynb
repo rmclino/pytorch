{
  "nbformat": 4,
  "nbformat_minor": 0,
  "metadata": {
    "colab": {
      "name": "PerceptronLogisticRegression.ipynb",
      "provenance": [],
      "include_colab_link": true
    },
    "kernelspec": {
      "name": "python3",
      "display_name": "Python 3"
    }
  },
  "cells": [
    {
      "cell_type": "markdown",
      "metadata": {
        "id": "view-in-github",
        "colab_type": "text"
      },
      "source": [
        "<a href=\"https://colab.research.google.com/github/rmclino/pytorch/blob/master/PerceptronLogisticRegression.ipynb\" target=\"_parent\"><img src=\"https://colab.research.google.com/assets/colab-badge.svg\" alt=\"Open In Colab\"/></a>"
      ]
    },
    {
      "cell_type": "code",
      "metadata": {
        "id": "pmNJYjkm4RIb",
        "colab_type": "code",
        "colab": {}
      },
      "source": [
        "import torch\n",
        "import torch.nn as nn\n",
        "from sklearn import datasets\n",
        "import numpy as np\n",
        "import matplotlib.pyplot as plt\n",
        "import math\n",
        "%matplotlib inline"
      ],
      "execution_count": 0,
      "outputs": []
    },
    {
      "cell_type": "code",
      "metadata": {
        "id": "sX0VLB354oi2",
        "colab_type": "code",
        "colab": {}
      },
      "source": [
        "n_pts = 100\n",
        "centers = [[-0.5,0.5],[ 0.5,-0.5]]\n",
        "X, y = datasets.make_blobs(n_samples=n_pts, random_state=123, centers = centers, cluster_std=0.4)\n",
        "x_data = torch.Tensor(X)\n",
        "y_data = torch.Tensor(y.reshape(100,1))"
      ],
      "execution_count": 0,
      "outputs": []
    },
    {
      "cell_type": "code",
      "metadata": {
        "id": "GOl3KNCJ4tCN",
        "colab_type": "code",
        "colab": {}
      },
      "source": [
        "def scatter_plot():\n",
        "  plt.scatter(X[ y==0,0], X[ y==0,1], color='b')\n",
        "  plt.scatter(X[ y==1,0], X[ y==1,1], color='green')\n",
        "  plt.show()"
      ],
      "execution_count": 0,
      "outputs": []
    },
    {
      "cell_type": "code",
      "metadata": {
        "id": "QNHgvXkFB7bi",
        "colab_type": "code",
        "outputId": "76a832e6-6174-47db-dc14-381713facbdb",
        "colab": {
          "base_uri": "https://localhost:8080/",
          "height": 269
        }
      },
      "source": [
        "scatter_plot()"
      ],
      "execution_count": 42,
      "outputs": [
        {
          "output_type": "display_data",
          "data": {
            "image/png": "[encoded data removed]",
            "text/plain": [
              "<Figure size 432x288 with 1 Axes>"
            ]
          },
          "metadata": {
            "tags": []
          }
        }
      ]
    },
    {
      "cell_type": "code",
      "metadata": {
        "id": "lYMf31lt6GYz",
        "colab_type": "code",
        "outputId": "bcb1e101-2a96-4b6b-968d-840674a4c303",
        "colab": {
          "base_uri": "https://localhost:8080/",
          "height": 187
        }
      },
      "source": [
        "X[y==0,0]"
      ],
      "execution_count": 5,
      "outputs": [
        {
          "output_type": "execute_result",
          "data": {
            "text/plain": [
              "array([-0.13715792, -0.60224775,  0.0063745 , -0.87433355, -0.6340043 ,\n",
              "       -0.48180397,  0.19748489, -0.62590326, -0.31262435, -0.1085056 ,\n",
              "        0.09825765, -0.36456438,  0.33484534, -0.66134642, -0.42758595,\n",
              "       -0.09837844,  0.45694611, -0.12901503, -0.49886163, -0.03991778,\n",
              "       -0.20505257, -0.97932046, -0.79298479, -1.00155227, -0.83500669,\n",
              "        0.164381  ,  0.00209495,  0.38237203, -0.14371744, -0.34823976,\n",
              "       -0.77155446, -1.01763413, -0.82214661, -0.03511838, -0.93382716,\n",
              "       -0.3868086 , -1.20861324, -0.48812671, -0.67759278, -0.3742912 ,\n",
              "       -0.65635992, -0.80908349,  0.06691962, -0.55602749, -0.7314401 ,\n",
              "       -0.93425224, -1.4706717 ,  0.09655585, -0.85181454, -1.34924014])"
            ]
          },
          "metadata": {
            "tags": []
          },
          "execution_count": 5
        }
      ]
    },
    {
      "cell_type": "code",
      "metadata": {
        "id": "Gqaw1HjW7Ma3",
        "colab_type": "code",
        "colab": {}
      },
      "source": [
        "class Model(nn.Module):\n",
        "  def __init__(self, input_size, output_size):\n",
        "    super().__init__()\n",
        "    self.linear = nn.Linear(input_size, output_size)\n",
        "  \n",
        "  def forward(self, x):\n",
        "    pred = torch.sigmoid(self.linear(x))\n",
        "    #pred = 1 / (1 + math.exp(-x))\n",
        "    return pred\n",
        "  def predict(self,x):\n",
        "    pred = self.forward(x)\n",
        "    if pred >= 0.5:\n",
        "      return 1\n",
        "    else:\n",
        "      return 0\n",
        "      "
      ],
      "execution_count": 0,
      "outputs": []
    },
    {
      "cell_type": "code",
      "metadata": {
        "id": "VS4aNc3f_g4v",
        "colab_type": "code",
        "outputId": "38d1fd0e-4068-4964-90ce-ab5caaa8f5df",
        "colab": {
          "base_uri": "https://localhost:8080/",
          "height": 68
        }
      },
      "source": [
        "torch.manual_seed(2)\n",
        "model = Model(2,1)\n",
        "list(model.parameters())"
      ],
      "execution_count": 60,
      "outputs": [
        {
          "output_type": "execute_result",
          "data": {
            "text/plain": [
              "[Parameter containing:\n",
              " tensor([[ 0.1622, -0.1683]], requires_grad=True), Parameter containing:\n",
              " tensor([0.1939], requires_grad=True)]"
            ]
          },
          "metadata": {
            "tags": []
          },
          "execution_count": 60
        }
      ]
    },
    {
      "cell_type": "code",
      "metadata": {
        "id": "RvTMhr_v_4Kr",
        "colab_type": "code",
        "outputId": "974f3e61-0fb1-456b-cefe-c86730039ad3",
        "colab": {
          "base_uri": "https://localhost:8080/",
          "height": 34
        }
      },
      "source": [
        "[w,b] = model.parameters()\n",
        "w1,w2 = w.view(2)\n",
        "b1 = b[0]\n",
        "print(w1.item(), w2.item(), b1.item())"
      ],
      "execution_count": 61,
      "outputs": [
        {
          "output_type": "stream",
          "text": [
            "0.16220331192016602 -0.1682732105255127 0.19390898942947388\n"
          ],
          "name": "stdout"
        }
      ]
    },
    {
      "cell_type": "code",
      "metadata": {
        "id": "KjFhfSMTAtdU",
        "colab_type": "code",
        "colab": {}
      },
      "source": [
        "def get_params():\n",
        "  return (w1.item(), w2.item(), b[0].item())"
      ],
      "execution_count": 0,
      "outputs": []
    },
    {
      "cell_type": "code",
      "metadata": {
        "id": "KwhYfxf8Alto",
        "colab_type": "code",
        "colab": {}
      },
      "source": [
        "def plot_fit(title):\n",
        "  plt.title = title\n",
        "  w1, w2, b1 = get_params()\n",
        "  x1 = np.array([-2.0,2.0])\n",
        "  x2 = (w1*x1 + b1)/-w2\n",
        "  plt.plot(x1,x2,'r')\n",
        "  scatter_plot()"
      ],
      "execution_count": 0,
      "outputs": []
    },
    {
      "cell_type": "code",
      "metadata": {
        "id": "RXXuKn_CBboM",
        "colab_type": "code",
        "outputId": "7cb6f3f1-67f8-4eb8-91c2-caae13e56ff7",
        "colab": {
          "base_uri": "https://localhost:8080/",
          "height": 269
        }
      },
      "source": [
        "plot_fit('Initial_Model')"
      ],
      "execution_count": 64,
      "outputs": [
        {
          "output_type": "display_data",
          "data": {
            "image/png": "[encoded data removed]",
            "text/plain": [
              "<Figure size 432x288 with 1 Axes>"
            ]
          },
          "metadata": {
            "tags": []
          }
        }
      ]
    },
    {
      "cell_type": "code",
      "metadata": {
        "id": "o_WNE80qBhgE",
        "colab_type": "code",
        "colab": {}
      },
      "source": [
        "criterion = nn.BCELoss()\n",
        "optimizer = torch.optim.SGD(model.parameters(), lr=0.01)"
      ],
      "execution_count": 0,
      "outputs": []
    },
    {
      "cell_type": "code",
      "metadata": {
        "id": "oXW8iHMVCrfF",
        "colab_type": "code",
        "colab": {}
      },
      "source": [
        "def model_fit(model, epochs=1000,min_error=0.01):\n",
        "  epochs = epochs\n",
        "  losses = []\n",
        "  for i in range(epochs):\n",
        "    y_pred = model.forward(x_data)\n",
        "    loss = criterion(y_pred, y_data)\n",
        "    \n",
        "    if i % 10 == 0:\n",
        "      print('epoch:',i,'loss',loss.item())\n",
        "    \n",
        "    losses.append(loss.item())\n",
        "    optimizer.zero_grad()\n",
        "    loss.backward()\n",
        "    optimizer.step()\n",
        "    if loss.item()<=min_error:\n",
        "      return (epochs,losses)\n",
        "      \n",
        "  return (epochs,losses)\n",
        "  \n",
        "  "
      ],
      "execution_count": 0,
      "outputs": []
    },
    {
      "cell_type": "code",
      "metadata": {
        "id": "sonZwdTyKgG2",
        "colab_type": "code",
        "outputId": "40ef3495-c05b-40f4-9a45-73bfe32e6028",
        "colab": {
          "base_uri": "https://localhost:8080/",
          "height": 1000
        }
      },
      "source": [
        "epochs,losses = model_fit(model)"
      ],
      "execution_count": 67,
      "outputs": [
        {
          "output_type": "stream",
          "text": [
            "epoch: 0 loss 0.6185115575790405\n",
            "epoch: 10 loss 0.6081910729408264\n",
            "epoch: 20 loss 0.5982059240341187\n",
            "epoch: 30 loss 0.588543713092804\n",
            "epoch: 40 loss 0.5791923403739929\n",
            "epoch: 50 loss 0.5701398849487305\n",
            "epoch: 60 loss 0.5613755583763123\n",
            "epoch: 70 loss 0.5528878569602966\n",
            "epoch: 80 loss 0.5446667671203613\n",
            "epoch: 90 loss 0.5367016792297363\n",
            "epoch: 100 loss 0.5289824604988098\n",
            "epoch: 110 loss 0.5215004682540894\n",
            "epoch: 120 loss 0.5142462253570557\n",
            "epoch: 130 loss 0.5072106122970581\n",
            "epoch: 140 loss 0.5003856420516968\n",
            "epoch: 150 loss 0.4937628209590912\n",
            "epoch: 160 loss 0.487334668636322\n",
            "epoch: 170 loss 0.48109352588653564\n",
            "epoch: 180 loss 0.4750322997570038\n",
            "epoch: 190 loss 0.46914422512054443\n",
            "epoch: 200 loss 0.46342262625694275\n",
            "epoch: 210 loss 0.45786118507385254\n",
            "epoch: 220 loss 0.4524537920951843\n",
            "epoch: 230 loss 0.4471950829029083\n",
            "epoch: 240 loss 0.44207894802093506\n",
            "epoch: 250 loss 0.43710052967071533\n",
            "epoch: 260 loss 0.43225470185279846\n",
            "epoch: 270 loss 0.4275362491607666\n",
            "epoch: 280 loss 0.42294082045555115\n",
            "epoch: 290 loss 0.41846397519111633\n",
            "epoch: 300 loss 0.41410133242607117\n",
            "epoch: 310 loss 0.40984898805618286\n",
            "epoch: 320 loss 0.40570273995399475\n",
            "epoch: 330 loss 0.40165916085243225\n",
            "epoch: 340 loss 0.3977142572402954\n",
            "epoch: 350 loss 0.3938651978969574\n",
            "epoch: 360 loss 0.3901081383228302\n",
            "epoch: 370 loss 0.386440247297287\n",
            "epoch: 380 loss 0.38285836577415466\n",
            "epoch: 390 loss 0.37935951352119446\n",
            "epoch: 400 loss 0.37594103813171387\n",
            "epoch: 410 loss 0.3726001977920532\n",
            "epoch: 420 loss 0.36933472752571106\n",
            "epoch: 430 loss 0.36614182591438293\n",
            "epoch: 440 loss 0.3630191683769226\n",
            "epoch: 450 loss 0.3599647581577301\n",
            "epoch: 460 loss 0.3569760024547577\n",
            "epoch: 470 loss 0.35405123233795166\n",
            "epoch: 480 loss 0.3511882722377777\n",
            "epoch: 490 loss 0.3483852446079254\n",
            "epoch: 500 loss 0.34564027190208435\n",
            "epoch: 510 loss 0.34295162558555603\n",
            "epoch: 520 loss 0.3403174877166748\n",
            "epoch: 530 loss 0.33773624897003174\n",
            "epoch: 540 loss 0.33520644903182983\n",
            "epoch: 550 loss 0.332726389169693\n",
            "epoch: 560 loss 0.3302949070930481\n",
            "epoch: 570 loss 0.32791030406951904\n",
            "epoch: 580 loss 0.32557129859924316\n",
            "epoch: 590 loss 0.3232766091823578\n",
            "epoch: 600 loss 0.32102492451667786\n",
            "epoch: 610 loss 0.31881511211395264\n",
            "epoch: 620 loss 0.31664618849754333\n",
            "epoch: 630 loss 0.314516544342041\n",
            "epoch: 640 loss 0.312425434589386\n",
            "epoch: 650 loss 0.31037190556526184\n",
            "epoch: 660 loss 0.30835452675819397\n",
            "epoch: 670 loss 0.30637282133102417\n",
            "epoch: 680 loss 0.3044253885746002\n",
            "epoch: 690 loss 0.30251166224479675\n",
            "epoch: 700 loss 0.30063068866729736\n",
            "epoch: 710 loss 0.29878148436546326\n",
            "epoch: 720 loss 0.29696330428123474\n",
            "epoch: 730 loss 0.2951754033565521\n",
            "epoch: 740 loss 0.29341694712638855\n",
            "epoch: 750 loss 0.2916872799396515\n",
            "epoch: 760 loss 0.2899855971336365\n",
            "epoch: 770 loss 0.28831130266189575\n",
            "epoch: 780 loss 0.2866637110710144\n",
            "epoch: 790 loss 0.2850418984889984\n",
            "epoch: 800 loss 0.28344565629959106\n",
            "epoch: 810 loss 0.2818740904331207\n",
            "epoch: 820 loss 0.2803266644477844\n",
            "epoch: 830 loss 0.2788029611110687\n",
            "epoch: 840 loss 0.27730220556259155\n",
            "epoch: 850 loss 0.2758239507675171\n",
            "epoch: 860 loss 0.2743678390979767\n",
            "epoch: 870 loss 0.27293309569358826\n",
            "epoch: 880 loss 0.2715194523334503\n",
            "epoch: 890 loss 0.27012622356414795\n",
            "epoch: 900 loss 0.26875317096710205\n",
            "epoch: 910 loss 0.2673996090888977\n",
            "epoch: 920 loss 0.2660652995109558\n",
            "epoch: 930 loss 0.26474976539611816\n",
            "epoch: 940 loss 0.26345258951187134\n",
            "epoch: 950 loss 0.2621733546257019\n",
            "epoch: 960 loss 0.2609117031097412\n",
            "epoch: 970 loss 0.2596670985221863\n",
            "epoch: 980 loss 0.2584395706653595\n",
            "epoch: 990 loss 0.2572283446788788\n"
          ],
          "name": "stdout"
        }
      ]
    },
    {
      "cell_type": "code",
      "metadata": {
        "id": "wOegaLEcCtrD",
        "colab_type": "code",
        "outputId": "6223a1d5-0205-4f82-eb15-03eb3cf5dd6f",
        "colab": {
          "base_uri": "https://localhost:8080/",
          "height": 286
        }
      },
      "source": [
        "plt.plot(range(epochs),losses)"
      ],
      "execution_count": 68,
      "outputs": [
        {
          "output_type": "execute_result",
          "data": {
            "text/plain": [
              "[<matplotlib.lines.Line2D at 0x7efea9586e48>]"
            ]
          },
          "metadata": {
            "tags": []
          },
          "execution_count": 68
        },
        {
          "output_type": "display_data",
          "data": {
            "image/png": "[encoded data removed]",
            "text/plain": [
              "<Figure size 432x288 with 1 Axes>"
            ]
          },
          "metadata": {
            "tags": []
          }
        }
      ]
    },
    {
      "cell_type": "code",
      "metadata": {
        "id": "Kyv5yqjcEe9x",
        "colab_type": "code",
        "outputId": "4bf9a03d-c58a-4828-bfea-6822a06644ab",
        "colab": {
          "base_uri": "https://localhost:8080/",
          "height": 269
        }
      },
      "source": [
        "plot_fit('Trained_Model')"
      ],
      "execution_count": 69,
      "outputs": [
        {
          "output_type": "display_data",
          "data": {
            "image/png": "[encoded data removed]",
            "text/plain": [
              "<Figure size 432x288 with 1 Axes>"
            ]
          },
          "metadata": {
            "tags": []
          }
        }
      ]
    },
    {
      "cell_type": "code",
      "metadata": {
        "id": "g0EpOujiFGcD",
        "colab_type": "code",
        "colab": {
          "base_uri": "https://localhost:8080/",
          "height": 337
        },
        "outputId": "99824043-2a65-4de5-94ff-600b2728273f"
      },
      "source": [
        "point1 = torch.Tensor([1.0,-1.0])\n",
        "point2 = torch.Tensor([-1.0,1.0])\n",
        "plt.plot(point1.numpy()[0], point1.numpy()[1],'ro')\n",
        "plt.plot(point2.numpy()[0], point2.numpy()[1],'ko')\n",
        "print(\"Red point Positive Prob = {}\".format(model.forward(point1).item()))\n",
        "print(\"Black point Positive Prob = {}\".format(model.forward(point2).item()))\n",
        "print(\"Red point in class {}\".format(model.predict(point1)))\n",
        "print(\"Black point in class {}\".format(model.predict(point2)))\n",
        "\n",
        "plot_fit('Trained_Model')\n"
      ],
      "execution_count": 70,
      "outputs": [
        {
          "output_type": "stream",
          "text": [
            "Red point Positive Prob = 0.9424158334732056\n",
            "Black point Positive Prob = 0.05055497586727142\n",
            "Red point in class 1\n",
            "Black point in class 0\n"
          ],
          "name": "stdout"
        },
        {
          "output_type": "display_data",
          "data": {
            "image/png": "[encoded data removed]",
            "text/plain": [
              "<Figure size 432x288 with 1 Axes>"
            ]
          },
          "metadata": {
            "tags": []
          }
        }
      ]
    },
    {
      "cell_type": "code",
      "metadata": {
        "id": "M9e0W6FrJPyv",
        "colab_type": "code",
        "colab": {
          "base_uri": "https://localhost:8080/",
          "height": 34
        },
        "outputId": "afa319fa-5a6d-4d80-a9c3-aadfd7c27515"
      },
      "source": [
        "model.forward(point1).item()"
      ],
      "execution_count": 71,
      "outputs": [
        {
          "output_type": "execute_result",
          "data": {
            "text/plain": [
              "0.9424158334732056"
            ]
          },
          "metadata": {
            "tags": []
          },
          "execution_count": 71
        }
      ]
    },
    {
      "cell_type": "code",
      "metadata": {
        "id": "yhgDykhQJTqO",
        "colab_type": "code",
        "colab": {
          "base_uri": "https://localhost:8080/",
          "height": 34
        },
        "outputId": "fcdfe71a-de21-41e3-b6eb-777705e777cc"
      },
      "source": [
        "model.forward(point2)"
      ],
      "execution_count": 72,
      "outputs": [
        {
          "output_type": "execute_result",
          "data": {
            "text/plain": [
              "tensor([0.0506], grad_fn=<SigmoidBackward>)"
            ]
          },
          "metadata": {
            "tags": []
          },
          "execution_count": 72
        }
      ]
    },
    {
      "cell_type": "code",
      "metadata": {
        "id": "CZZ3vUrsJVNe",
        "colab_type": "code",
        "colab": {}
      },
      "source": [
        ""
      ],
      "execution_count": 0,
      "outputs": []
    }
  ]
}